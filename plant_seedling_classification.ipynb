{
  "nbformat": 4,
  "nbformat_minor": 0,
  "metadata": {
    "colab": {
      "name": "plant_seedling_classification.ipynb",
      "version": "0.3.2",
      "provenance": [],
      "collapsed_sections": [],
      "include_colab_link": true
    },
    "kernelspec": {
      "name": "python3",
      "display_name": "Python 3"
    },
    "accelerator": "TPU"
  },
  "cells": [
    {
      "cell_type": "markdown",
      "metadata": {
        "id": "view-in-github",
        "colab_type": "text"
      },
      "source": [
        "<a href=\"https://colab.research.google.com/github/csap7/plantseedlingclassification/blob/master/plant_seedling_classification.ipynb\" target=\"_parent\"><img src=\"https://colab.research.google.com/assets/colab-badge.svg\" alt=\"Open In Colab\"/></a>"
      ]
    },
    {
      "cell_type": "code",
      "metadata": {
        "id": "OyaUFdf_4StG",
        "colab_type": "code",
        "colab": {}
      },
      "source": [
        "# from google.colab import files\n",
        "# files.upload()"
      ],
      "execution_count": 0,
      "outputs": []
    },
    {
      "cell_type": "code",
      "metadata": {
        "id": "Qqa0GxPa4qV0",
        "colab_type": "code",
        "colab": {}
      },
      "source": [
        "!pip install -q kaggle"
      ],
      "execution_count": 0,
      "outputs": []
    },
    {
      "cell_type": "code",
      "metadata": {
        "id": "TYZmvZuy4wBT",
        "colab_type": "code",
        "colab": {}
      },
      "source": [
        "!mkdir -p ~/.kaggle\n",
        "!cp kaggle.json ~/.kaggle/"
      ],
      "execution_count": 0,
      "outputs": []
    },
    {
      "cell_type": "code",
      "metadata": {
        "id": "uy6Nfa7y4zt2",
        "colab_type": "code",
        "outputId": "2f9c63ef-d35a-48e0-9c62-c230802b0812",
        "colab": {
          "base_uri": "https://localhost:8080/",
          "height": 152
        }
      },
      "source": [
        "!chmod 600 ~/.kaggle/kaggle.json\n",
        "!kaggle datasets list -s plant-seedling"
      ],
      "execution_count": 0,
      "outputs": [
        {
          "output_type": "stream",
          "text": [
            "ref                                    title                        size  lastUpdated          downloadCount  \n",
            "-------------------------------------  --------------------------  -----  -------------------  -------------  \n",
            "vbookshelf/v2-plant-seedlings-dataset  V2 Plant Seedlings Dataset    2GB  2018-12-13 14:20:52           1945  \n",
            "xalphahelix/plant-seedling-models      Plant Seedling Models         9MB  2018-03-25 11:02:18             29  \n",
            "tivadardanka/plant-segmentation        Plant segmentation          750MB  2019-05-27 09:30:10             20  \n",
            "jannesklaas/kerasseedlings             Keras-Seedlings               2GB  2018-11-10 15:47:42             66  \n"
          ],
          "name": "stdout"
        }
      ]
    },
    {
      "cell_type": "code",
      "metadata": {
        "id": "YxrW05XI5-35",
        "colab_type": "code",
        "outputId": "247e88a4-dd47-477a-ea27-fa2d2084f232",
        "colab": {
          "base_uri": "https://localhost:8080/",
          "height": 175
        }
      },
      "source": [
        "# Downloading dataset\n",
        "!kaggle competitions download -c plant-seedlings-classification --force"
      ],
      "execution_count": 0,
      "outputs": [
        {
          "output_type": "stream",
          "text": [
            "Downloading sample_submission.csv.zip to /content\n",
            "\r  0% 0.00/5.13k [00:00<?, ?B/s]\n",
            "\r100% 5.13k/5.13k [00:00<00:00, 2.05MB/s]\n",
            "Downloading test.zip to /content\n",
            " 80% 69.0M/86.0M [00:00<00:00, 155MB/s]\n",
            "100% 86.0M/86.0M [00:00<00:00, 159MB/s]\n",
            "Downloading train.zip to /content\n",
            "100% 1.60G/1.60G [00:14<00:00, 30.1MB/s]\n",
            "100% 1.60G/1.60G [00:14<00:00, 119MB/s] \n"
          ],
          "name": "stdout"
        }
      ]
    },
    {
      "cell_type": "code",
      "metadata": {
        "id": "SljBplzC6Q8b",
        "colab_type": "code",
        "colab": {}
      },
      "source": [
        "# Unzipping train/test data\n",
        "!mkdir train\n",
        "!unzip train.zip -d train"
      ],
      "execution_count": 0,
      "outputs": []
    },
    {
      "cell_type": "code",
      "metadata": {
        "id": "dA1ONLl76kBR",
        "colab_type": "code",
        "colab": {}
      },
      "source": [
        "!mkdir test\n",
        "!unzip test.zip -d test"
      ],
      "execution_count": 0,
      "outputs": []
    },
    {
      "cell_type": "code",
      "metadata": {
        "id": "DTtVUoG76yb3",
        "colab_type": "code",
        "outputId": "dfaf682f-0800-4671-b14e-3763ee42fcc1",
        "colab": {
          "base_uri": "https://localhost:8080/",
          "height": 35
        }
      },
      "source": [
        "from keras.models import Sequential\n",
        "from keras.layers.convolutional import Conv2D, MaxPooling2D\n",
        "from keras.layers.core import Activation, Flatten, Dense\n",
        "from keras.preprocessing.image import ImageDataGenerator, array_to_img, img_to_array, load_img\n",
        "from keras.optimizers import Adam\n",
        "from sklearn.model_selection import train_test_split\n",
        "import numpy as np\n",
        "import random\n",
        "import os\n",
        "import sys\n",
        "import cv2\n",
        "from keras.utils import to_categorical\n",
        "import matplotlib"
      ],
      "execution_count": 0,
      "outputs": [
        {
          "output_type": "stream",
          "text": [
            "Using TensorFlow backend.\n"
          ],
          "name": "stderr"
        }
      ]
    },
    {
      "cell_type": "code",
      "metadata": {
        "id": "hFruKFYYkxRd",
        "colab_type": "code",
        "colab": {}
      },
      "source": [
        "from subprocess import check_output"
      ],
      "execution_count": 0,
      "outputs": []
    },
    {
      "cell_type": "code",
      "metadata": {
        "id": "3WpOe0Tjdrfp",
        "colab_type": "code",
        "colab": {}
      },
      "source": [
        "import tensorflow as tf\n",
        "class myCallback(tf.keras.callbacks.Callback):\n",
        "  def on_epoch_end(self, epoch, logs={}):\n",
        "    if(logs.get('acc')>0.9):\n",
        "      print(\"\\nReached 60% accuracy so cancelling training!\")\n",
        "      self.model.stop_training = True\n",
        "      \n",
        "callbacks = myCallback()"
      ],
      "execution_count": 0,
      "outputs": []
    },
    {
      "cell_type": "code",
      "metadata": {
        "id": "ZPZTn_ANk2ud",
        "colab_type": "code",
        "colab": {}
      },
      "source": [
        "def classes_to_int(label):\n",
        "    # label = classes.index(dir)\n",
        "    label = label.strip()\n",
        "    if label == \"Black-grass\":  return 0\n",
        "    if label == \"Charlock\":  return 1\n",
        "    if label == \"Cleavers\":  return 2\n",
        "    if label == \"Common Chickweed\":  return 3\n",
        "    if label == \"Common wheat\":  return 4\n",
        "    if label == \"Fat Hen\":  return 5\n",
        "    if label == \"Loose Silky-bent\": return 6\n",
        "    if label == \"Maize\":  return 7\n",
        "    if label == \"Scentless Mayweed\": return 8\n",
        "    if label == \"Shepherds Purse\": return 9\n",
        "    if label == \"Small-flowered Cranesbill\": return 10\n",
        "    if label == \"Sugar beet\": return 11\n",
        "    print(\"Invalid Label\", label)\n",
        "    return 12"
      ],
      "execution_count": 0,
      "outputs": []
    },
    {
      "cell_type": "code",
      "metadata": {
        "id": "FSEZvnw6k6iv",
        "colab_type": "code",
        "colab": {}
      },
      "source": [
        "def int_to_classes(i):\n",
        "    if i == 0: return \"Black-grass\"\n",
        "    elif i == 1: return \"Charlock\"\n",
        "    elif i == 2: return \"Cleavers\"\n",
        "    elif i == 3: return \"Common Chickweed\"\n",
        "    elif i == 4: return \"Common wheat\"\n",
        "    elif i == 5: return \"Fat Hen\"\n",
        "    elif i == 6: return \"Loose Silky-bent\"\n",
        "    elif i == 7: return \"Maize\"\n",
        "    elif i == 8: return \"Scentless Mayweed\"\n",
        "    elif i == 9: return \"Shepherds Purse\"\n",
        "    elif i == 10: return \"Small-flowered Cranesbill\"\n",
        "    elif i == 11: return \"Sugar beet\"\n",
        "    print(\"Invalid class \", i)\n",
        "    return \"Invalid Class\""
      ],
      "execution_count": 0,
      "outputs": []
    },
    {
      "cell_type": "code",
      "metadata": {
        "id": "n-8qY9j6k9lz",
        "colab_type": "code",
        "colab": {}
      },
      "source": [
        "NUM_CLASSES = 12\n",
        "# we need images of same size so we convert them into the size\n",
        "WIDTH = 128\n",
        "HEIGHT = 128\n",
        "DEPTH = 3\n",
        "inputShape = (WIDTH, HEIGHT, DEPTH)\n",
        "# initialize number of epochs to train for, initial learning rate and batch size\n",
        "EPOCHS = 1\n",
        "INIT_LR = 1e-3\n",
        "BS = 32"
      ],
      "execution_count": 0,
      "outputs": []
    },
    {
      "cell_type": "code",
      "metadata": {
        "id": "bSA6BYJclGqz",
        "colab_type": "code",
        "colab": {}
      },
      "source": [
        "def readTrainData(trainDir):\n",
        "    data = []\n",
        "    labels = []\n",
        "    # loop over the input images\n",
        "    dirs = os.listdir(trainDir) \n",
        "    for dir in dirs:\n",
        "        absDirPath = os.path.join(os.path.sep,trainDir, dir)\n",
        "        images = os.listdir(absDirPath)\n",
        "        for imageFileName in images:\n",
        "            # load the image, pre-process it, and store it in the data list\n",
        "            imageFullPath = os.path.join(trainDir, dir, imageFileName)\n",
        "            #print(imageFullPath)\n",
        "            img = load_img(imageFullPath)\n",
        "            arr = img_to_array(img)  # Numpy array with shape (233,233,3)\n",
        "            arr = cv2.resize(arr, (HEIGHT,WIDTH)) #Numpy array with shape (HEIGHT, WIDTH,3)\n",
        "            #print(arr.shape) \n",
        "            data.append(arr)\n",
        "            label = classes_to_int(dir)\n",
        "            labels.append(label)\n",
        "    return data, labels\n"
      ],
      "execution_count": 0,
      "outputs": []
    },
    {
      "cell_type": "code",
      "metadata": {
        "id": "GrpMq8G7lIVm",
        "colab_type": "code",
        "colab": {}
      },
      "source": [
        "def createModel():\n",
        "    model = Sequential()\n",
        "    # first set of CONV => RELU => POOL layers\n",
        "    # The CONV  layer will learn 20 convolution filters, each of which are 5×5.\n",
        "    model.add(Conv2D(20, (5, 5), padding=\"same\", input_shape=inputShape))\n",
        "    # We then apply a ReLU activation function followed by 2×2 max-pooling in both \n",
        "    # the x and y direction with a stride of two. \n",
        "    #To visualize this operation, consider a sliding window that “slides” across \n",
        "    #the activation volume, taking the max operation over each region, while taking \n",
        "    #a step of two pixels in both the horizontal and vertical direction.\n",
        "    model.add(Activation(\"relu\"))\n",
        "    model.add(MaxPooling2D(pool_size=(2, 2), strides=(2, 2)))\n",
        "    # second set of CONV => RELU => POOL layers\n",
        "    #This time we are learning 50 convolutional filters rather than the 20 convolutional\n",
        "    #filters as in the previous layer set. It’s common to see the number of CONV \n",
        "    #filters learned increase the deeper we go in the network architecture.\n",
        "    model.add(Conv2D(50, (5, 5), padding=\"same\"))\n",
        "    model.add(Activation(\"relu\"))\n",
        "    model.add(MaxPooling2D(pool_size=(2, 2), strides=(2, 2)))\n",
        "    # first (and only) set of FC => RELU layers\n",
        "    # Flattening out the volume into a set of fully-connected layers\n",
        "    # Take the output of the preceding MaxPooling2D layer and flatten it into a single vector.\n",
        "    # This operation allows us to apply our dense/fully-connected layers.\n",
        "    # Fully-connected layer contains 500 nodes which is passed through another \n",
        "    # nonlinear ReLU activation.\n",
        "    model.add(Flatten())\n",
        "    model.add(Dense(500))\n",
        "    model.add(Activation(\"relu\"))\n",
        "    # softmax classifier\n",
        "    # Another fully-connected layer, but this one is special — the number of nodes is equal \n",
        "    # to the number of classes  (i.e., the classes we want to recognize).\n",
        "    # This Dense layer is then fed into our softmax classifier\n",
        "    # which will yield the probability for each class.\n",
        "    model.add(Dense(output_dim=12))\n",
        "    model.add(Activation(\"softmax\"))\n",
        "    # returns our fully constructed deep learning + Keras image classifier \n",
        "    opt = Adam(lr=INIT_LR, decay=INIT_LR / EPOCHS)\n",
        "    # use binary_crossentropy if there are two classes\n",
        "    model.compile(loss=\"categorical_crossentropy\", optimizer=opt, metrics=[\"accuracy\"])\n",
        "    return model"
      ],
      "execution_count": 0,
      "outputs": []
    },
    {
      "cell_type": "code",
      "metadata": {
        "id": "ESI_grHElSa_",
        "colab_type": "code",
        "colab": {}
      },
      "source": [
        "random.seed(10)\n",
        "allLabels =  os.listdir(\"/content/train/train/\")  # list of subdirectories and files\n",
        "print(\"Loading images\")\n",
        "sys.stdout.flush()\n",
        "X, Y = readTrainData(\"/content/train/train/\")\n",
        "# scale the raw pixel intensities to the range [0, 1]\n",
        "X = np.array(X, dtype=\"float\") / 255.0\n",
        "Y = np.array(Y)\n",
        "# convert the labels from integers to vectors\n",
        "Y =  to_categorical(Y, num_classes=12)\n",
        "\n",
        "print(\"Partition data into 75:25\")\n",
        "sys.stdout.flush()\n",
        "# partition the data into training and testing splits using 75% training and 25% for validation\n",
        "(trainX, valX, trainY, valY) = train_test_split(X,Y,test_size=0.25, random_state=10)\n",
        "\n",
        "#construct the image generator for data augmentation\n",
        "print(\"Generating images\")\n",
        "sys.stdout.flush()\n",
        "aug = ImageDataGenerator(rotation_range=30, width_shift_range=0.1, \\\n",
        "    height_shift_range=0.1, shear_range=0.2, zoom_range=0.2,\\\n",
        "    horizontal_flip=True, fill_mode=\"nearest\")\n"
      ],
      "execution_count": 0,
      "outputs": []
    },
    {
      "cell_type": "code",
      "metadata": {
        "id": "Tzi1lguhl8Wb",
        "colab_type": "code",
        "colab": {}
      },
      "source": [
        "# initialize the model\n",
        "print(\"compiling model...\")\n",
        "sys.stdout.flush()\n",
        "model = createModel()\n",
        "# train the network\n",
        "print(\"training network...\")\n",
        "sys.stdout.flush()\n",
        "H = model.fit_generator(aug.flow(trainX, trainY, batch_size=BS), \\\n",
        "    validation_data=(valX, valY), \\\n",
        "    steps_per_epoch=len(trainX) // BS, epochs=EPOCHS, callbacks=[callbacks], verbose=1)\n",
        "\n",
        "# save the model to disk\n",
        "print(\"Saving model to disk\")\n",
        "sys.stdout.flush()\n",
        "model.save(\"/tmp/mymodel\")"
      ],
      "execution_count": 0,
      "outputs": []
    },
    {
      "cell_type": "code",
      "metadata": {
        "id": "TXTuZBRinTod",
        "colab_type": "code",
        "colab": {}
      },
      "source": [
        "# set the matplotlib backend so figures can be saved in the background\n",
        "# plot the training loss and accuracy\n",
        "print(\"Generating plots...\")\n",
        "sys.stdout.flush()\n",
        "matplotlib.use(\"Agg\")\n",
        "matplotlib.pyplot.style.use(\"ggplot\")\n",
        "matplotlib.pyplot.figure()\n",
        "N = EPOCHS\n",
        "matplotlib.pyplot.plot(np.arange(0, N), H.history[\"loss\"], label=\"train_loss\")\n",
        "matplotlib.pyplot.plot(np.arange(0, N), H.history[\"val_loss\"], label=\"val_loss\")\n",
        "matplotlib.pyplot.plot(np.arange(0, N), H.history[\"acc\"], label=\"train_acc\")\n",
        "matplotlib.pyplot.plot(np.arange(0, N), H.history[\"val_acc\"], label=\"val_acc\")\n",
        "matplotlib.pyplot.title(\"Training Loss and Accuracy on  crop classification\")\n",
        "matplotlib.pyplot.xlabel(\"Epochs\")\n",
        "matplotlib.pyplot.ylabel(\"Loss/Accuracy\")\n",
        "matplotlib.pyplot.legend(loc=\"lower left\")\n",
        "matplotlib.pyplot.savefig(\"plot.png\")"
      ],
      "execution_count": 0,
      "outputs": []
    },
    {
      "cell_type": "code",
      "metadata": {
        "id": "oqNrVEBu0UuO",
        "colab_type": "code",
        "colab": {}
      },
      "source": [
        "def readTestData(testDir):\n",
        "    data = []\n",
        "    filenames = []\n",
        "    # loop over the input images\n",
        "    images = os.listdir(testDir)\n",
        "    for imageFileName in images:\n",
        "        # load the image, pre-process it, and store it in the data list\n",
        "        imageFullPath = os.path.join(testDir, imageFileName)\n",
        "        #print(imageFullPath)\n",
        "        img = load_img(imageFullPath)\n",
        "        arr = img_to_array(img)  # Numpy array with shape (...,..,3)\n",
        "        arr = cv2.resize(arr, (HEIGHT,WIDTH)) \n",
        "        data.append(arr)\n",
        "        filenames.append(imageFileName)\n",
        "    return data, filenames\n",
        "\n",
        "# read test data and find its classification\n",
        "testX, filenames = readTestData(\"/content/test/test/\")\n",
        "# scale the raw pixel intensities to the range [0, 1]\n",
        "testX = np.array(testX, dtype=\"float\") / 255.0\n",
        "\n",
        "from keras.models import load_model\n",
        "mymodel = load_model('/tmp/mymodel')\n",
        "yFit = mymodel.predict(testX, batch_size=10, verbose=1)"
      ],
      "execution_count": 0,
      "outputs": []
    },
    {
      "cell_type": "code",
      "metadata": {
        "id": "bZcUnuyJ0jPR",
        "colab_type": "code",
        "colab": {}
      },
      "source": [
        "import csv\n",
        "!mkdir sample_output\n",
        "!unzip sample_submission.csv.zip -d sample_output\n",
        "with open('/content/sample_output/sample_submission.csv', 'w', newline='') as csvfile:\n",
        "    fieldnames = ['file', 'species']\n",
        "    writer = csv.DictWriter(csvfile, fieldnames=fieldnames)\n",
        "    writer.writeheader()\n",
        "    for index, file in enumerate(filenames):\n",
        "        classesProbs = yFit[index]\n",
        "        maxIdx = 0\n",
        "        maxProb = 0;\n",
        "        for idx in range(0,11):\n",
        "            if(classesProbs[idx] > maxProb):\n",
        "                maxIdx = idx\n",
        "                maxProb = classesProbs[idx]\n",
        "        writer.writerow({'file': file, 'species': int_to_classes(maxIdx)})\n",
        "print(\"Writing complete\")"
      ],
      "execution_count": 0,
      "outputs": []
    }
  ]
}