{
  "nbformat": 4,
  "nbformat_minor": 0,
  "metadata": {
    "colab": {
      "name": "ai_20062019.ipynb",
      "version": "0.3.2",
      "provenance": [],
      "collapsed_sections": [],
      "include_colab_link": true
    },
    "kernelspec": {
      "name": "python3",
      "display_name": "Python 3"
    }
  },
  "cells": [
    {
      "cell_type": "markdown",
      "metadata": {
        "id": "view-in-github",
        "colab_type": "text"
      },
      "source": [
        "<a href=\"https://colab.research.google.com/github/csap7/ictiitk/blob/master/ai_20062019.ipynb\" target=\"_parent\"><img src=\"https://colab.research.google.com/assets/colab-badge.svg\" alt=\"Open In Colab\"/></a>"
      ]
    },
    {
      "cell_type": "code",
      "metadata": {
        "id": "6DzWJUQjglPP",
        "colab_type": "code",
        "colab": {}
      },
      "source": [
        "from matplotlib import pyplot as plt\n",
        "import numpy as np\n",
        "import pandas as pd\n",
        "import urllib.request\n",
        "import warnings\n",
        "warnings.filterwarnings(action=\"ignore\")"
      ],
      "execution_count": 0,
      "outputs": []
    },
    {
      "cell_type": "code",
      "metadata": {
        "id": "EBw0Um2prnl6",
        "colab_type": "code",
        "outputId": "75d3d3f8-c4f9-4b7d-bdee-718a20591151",
        "colab": {
          "base_uri": "https://localhost:8080/",
          "height": 35
        }
      },
      "source": [
        "list1 = [1, 2, 3]\n",
        "print(\"list1 * 4 = \", list1 * 4)"
      ],
      "execution_count": 0,
      "outputs": [
        {
          "output_type": "stream",
          "text": [
            "list1 * 4 =  [1, 2, 3, 1, 2, 3, 1, 2, 3, 1, 2, 3]\n"
          ],
          "name": "stdout"
        }
      ]
    },
    {
      "cell_type": "code",
      "metadata": {
        "id": "RjLPos_btOLf",
        "colab_type": "code",
        "outputId": "b61f7a38-a42c-49c3-f758-65dd0b4aa54b",
        "colab": {
          "base_uri": "https://localhost:8080/",
          "height": 143
        }
      },
      "source": [
        "nparr = np.array([1,2,3])\n",
        "print(\"nparr*4=\", nparr*4)\n",
        "print(\"nparr+4=\", nparr+4)\n",
        "print(\"nparr/2=\", nparr/2)\n",
        "print(\"nparr/2.0=\", nparr/2)\n",
        "print(\"nparr//2.0=\", nparr//2.0)\n",
        "print(\"nparr//2=\", nparr//2)\n",
        "print(type(nparr), nparr.dtype, nparr.size)"
      ],
      "execution_count": 0,
      "outputs": [
        {
          "output_type": "stream",
          "text": [
            "nparr*4= [ 4  8 12]\n",
            "nparr+4= [5 6 7]\n",
            "nparr/2= [0.5 1.  1.5]\n",
            "nparr/2.0= [0.5 1.  1.5]\n",
            "nparr//2.0= [0. 1. 1.]\n",
            "nparr//2= [0 1 1]\n",
            "<class 'numpy.ndarray'> int64 3\n"
          ],
          "name": "stdout"
        }
      ]
    },
    {
      "cell_type": "code",
      "metadata": {
        "id": "2PrshRyPxTu0",
        "colab_type": "code",
        "outputId": "b3655aa6-b5f9-40a8-e352-16f9cc79f2a1",
        "colab": {
          "base_uri": "https://localhost:8080/",
          "height": 107
        }
      },
      "source": [
        "ddarr= np.array([[1,2,3],[4,5,6]])\n",
        "print(ddarr.ndim, ddarr.shape, ddarr.size, ddarr.dtype)\n",
        "print(ddarr[0,1])\n",
        "print(ddarr[0])\n",
        "print(ddarr[:,0])\n",
        "print(ddarr[1,:])"
      ],
      "execution_count": 0,
      "outputs": [
        {
          "output_type": "stream",
          "text": [
            "2 (2, 3) 6 int64\n",
            "2\n",
            "[1 2 3]\n",
            "[1 4]\n",
            "[4 5 6]\n"
          ],
          "name": "stdout"
        }
      ]
    },
    {
      "cell_type": "code",
      "metadata": {
        "id": "c4nWBC6U08H0",
        "colab_type": "code",
        "outputId": "1a5255fc-a12e-41ab-e06e-8cb9b3a5e995",
        "colab": {
          "base_uri": "https://localhost:8080/",
          "height": 269
        }
      },
      "source": [
        "d1= np.array([[1,2],\n",
        "              [3,4],\n",
        "              [5,6],\n",
        "              [7,8],\n",
        "              [9,10],\n",
        "              [11,12],\n",
        "              [13,14]])\n",
        "print(d1, d1.shape, d1.ndim)\n",
        "print(d1[: :2,0])\n",
        "print(d1[: :2])\n",
        "print(d1[1: :2, 1])\n",
        "print(d1[1: :3, 0])"
      ],
      "execution_count": 0,
      "outputs": [
        {
          "output_type": "stream",
          "text": [
            "[[ 1  2]\n",
            " [ 3  4]\n",
            " [ 5  6]\n",
            " [ 7  8]\n",
            " [ 9 10]\n",
            " [11 12]\n",
            " [13 14]] (7, 2) 2\n",
            "[ 1  5  9 13]\n",
            "[[ 1  2]\n",
            " [ 5  6]\n",
            " [ 9 10]\n",
            " [13 14]]\n",
            "[ 4  8 12]\n",
            "[3 9]\n"
          ],
          "name": "stdout"
        }
      ]
    },
    {
      "cell_type": "code",
      "metadata": {
        "id": "qpBKOzie4yxP",
        "colab_type": "code",
        "outputId": "ff187921-e19c-48fe-eb07-8cc45b515aff",
        "colab": {
          "base_uri": "https://localhost:8080/",
          "height": 71
        }
      },
      "source": [
        "zr=np.zeros([3,4])\n",
        "print(zr)"
      ],
      "execution_count": 0,
      "outputs": [
        {
          "output_type": "stream",
          "text": [
            "[[0. 0. 0. 0.]\n",
            " [0. 0. 0. 0.]\n",
            " [0. 0. 0. 0.]]\n"
          ],
          "name": "stdout"
        }
      ]
    },
    {
      "cell_type": "code",
      "metadata": {
        "id": "TfyY8o5e5BNO",
        "colab_type": "code",
        "outputId": "1dcb28f4-2b45-4a2f-a813-cf87b880a67a",
        "colab": {
          "base_uri": "https://localhost:8080/",
          "height": 179
        }
      },
      "source": [
        "ar=np.ones([4,4])\n",
        "print(ar*4)\n",
        "print(ar)\n",
        "print(ar.dtype)"
      ],
      "execution_count": 0,
      "outputs": [
        {
          "output_type": "stream",
          "text": [
            "[[4. 4. 4. 4.]\n",
            " [4. 4. 4. 4.]\n",
            " [4. 4. 4. 4.]\n",
            " [4. 4. 4. 4.]]\n",
            "[[1. 1. 1. 1.]\n",
            " [1. 1. 1. 1.]\n",
            " [1. 1. 1. 1.]\n",
            " [1. 1. 1. 1.]]\n",
            "float64\n"
          ],
          "name": "stdout"
        }
      ]
    },
    {
      "cell_type": "code",
      "metadata": {
        "id": "kjSZUdH05NZX",
        "colab_type": "code",
        "outputId": "511e1c6a-a4ec-4e78-e8dd-a4ca2f10922e",
        "colab": {
          "base_uri": "https://localhost:8080/",
          "height": 35
        }
      },
      "source": [
        "ar=np.arange(1,6)\n",
        "print(ar)"
      ],
      "execution_count": 0,
      "outputs": [
        {
          "output_type": "stream",
          "text": [
            "[1 2 3 4 5]\n"
          ],
          "name": "stdout"
        }
      ]
    },
    {
      "cell_type": "code",
      "metadata": {
        "id": "9VfVi9Rd539O",
        "colab_type": "code",
        "outputId": "4b32a3f6-9a38-4277-8bce-ccdeedb53a7b",
        "colab": {
          "base_uri": "https://localhost:8080/",
          "height": 35
        }
      },
      "source": [
        "ar[3]=16\n",
        "print(ar)"
      ],
      "execution_count": 0,
      "outputs": [
        {
          "output_type": "stream",
          "text": [
            "[ 1  2  3 16  5]\n"
          ],
          "name": "stdout"
        }
      ]
    },
    {
      "cell_type": "code",
      "metadata": {
        "id": "_FJHP55Z7wDX",
        "colab_type": "code",
        "outputId": "9bc18bb6-8e0a-49d4-fe1a-d24b52341665",
        "colab": {
          "base_uri": "https://localhost:8080/",
          "height": 161
        }
      },
      "source": [
        "arr= np.array([11, 22, 33, 0. , 44, 55])\n",
        "print(arr.sum())\n",
        "print(arr.std())\n",
        "print(arr.mean())\n",
        "print(arr.max())\n",
        "print(arr.min())\n",
        "print(arr.size)\n",
        "\n",
        "print(arr.nonzero())\n",
        "print(arr.dtype)"
      ],
      "execution_count": 0,
      "outputs": [
        {
          "output_type": "stream",
          "text": [
            "165.0\n",
            "18.786076404259266\n",
            "27.5\n",
            "55.0\n",
            "0.0\n",
            "6\n",
            "(array([0, 1, 2, 4, 5]),)\n",
            "float64\n"
          ],
          "name": "stdout"
        }
      ]
    },
    {
      "cell_type": "code",
      "metadata": {
        "id": "Vi9S46S8-57Z",
        "colab_type": "code",
        "outputId": "d715c9c6-7604-44ad-9c25-ee79140b5885",
        "colab": {
          "base_uri": "https://localhost:8080/",
          "height": 89
        }
      },
      "source": [
        "print(np.all([1,2,3,4]))\n",
        "print(np.all([1,2,0,3,4]))\n",
        "print(np.any([1,2,3,4]))\n",
        "print(np.any([1,2,0,3,4]))"
      ],
      "execution_count": 0,
      "outputs": [
        {
          "output_type": "stream",
          "text": [
            "True\n",
            "False\n",
            "True\n",
            "True\n"
          ],
          "name": "stdout"
        }
      ]
    },
    {
      "cell_type": "code",
      "metadata": {
        "id": "BWjwJIPkARcY",
        "colab_type": "code",
        "outputId": "520a2f5b-346d-4b50-edb8-729f5a892c06",
        "colab": {
          "base_uri": "https://localhost:8080/",
          "height": 279
        }
      },
      "source": [
        "n1=np.array([4,5,6])\n",
        "n2=np.array([1,2,3])\n",
        "print(n1)\n",
        "print(n2)\n",
        "print(n1+n2)\n",
        "print(n1-n2)\n",
        "\n",
        "n3=np.array([4,5,6,7])\n",
        "print(n1+n3)"
      ],
      "execution_count": 0,
      "outputs": [
        {
          "output_type": "stream",
          "text": [
            "[4 5 6]\n",
            "[1 2 3]\n",
            "[5 7 9]\n",
            "[3 3 3]\n"
          ],
          "name": "stdout"
        },
        {
          "output_type": "error",
          "ename": "ValueError",
          "evalue": "ignored",
          "traceback": [
            "\u001b[0;31m---------------------------------------------------------------------------\u001b[0m",
            "\u001b[0;31mValueError\u001b[0m                                Traceback (most recent call last)",
            "\u001b[0;32m<ipython-input-99-43271728fdbb>\u001b[0m in \u001b[0;36m<module>\u001b[0;34m()\u001b[0m\n\u001b[1;32m      7\u001b[0m \u001b[0;34m\u001b[0m\u001b[0m\n\u001b[1;32m      8\u001b[0m \u001b[0mn3\u001b[0m\u001b[0;34m=\u001b[0m\u001b[0mnp\u001b[0m\u001b[0;34m.\u001b[0m\u001b[0marray\u001b[0m\u001b[0;34m(\u001b[0m\u001b[0;34m[\u001b[0m\u001b[0;36m4\u001b[0m\u001b[0;34m,\u001b[0m\u001b[0;36m5\u001b[0m\u001b[0;34m,\u001b[0m\u001b[0;36m6\u001b[0m\u001b[0;34m,\u001b[0m\u001b[0;36m7\u001b[0m\u001b[0;34m]\u001b[0m\u001b[0;34m)\u001b[0m\u001b[0;34m\u001b[0m\u001b[0;34m\u001b[0m\u001b[0m\n\u001b[0;32m----> 9\u001b[0;31m \u001b[0mprint\u001b[0m\u001b[0;34m(\u001b[0m\u001b[0mn1\u001b[0m\u001b[0;34m+\u001b[0m\u001b[0mn3\u001b[0m\u001b[0;34m)\u001b[0m\u001b[0;34m\u001b[0m\u001b[0;34m\u001b[0m\u001b[0m\n\u001b[0m",
            "\u001b[0;31mValueError\u001b[0m: operands could not be broadcast together with shapes (3,) (4,) "
          ]
        }
      ]
    },
    {
      "cell_type": "code",
      "metadata": {
        "id": "3jE4NLn_DDm9",
        "colab_type": "code",
        "outputId": "d8d8456e-5dbc-49b7-aa26-0af6d1a40940",
        "colab": {
          "base_uri": "https://localhost:8080/",
          "height": 89
        }
      },
      "source": [
        "n4=np.array([10, -1, 0,90,300,3,-6,2])\n",
        "print(n4)\n",
        "#n4.sort()\n",
        "#print(n4)\n",
        "print(n4.argsort())\n",
        "for i in n4.argsort():\n",
        "  print(n4[i], end=\" \")"
      ],
      "execution_count": 0,
      "outputs": [
        {
          "output_type": "stream",
          "text": [
            "[ 10  -1   0  90 300   3  -6   2]\n",
            "[ -6  -1   0   2   3  10  90 300]\n",
            "[0 1 2 3 4 5 6 7]\n",
            "-6 -1 0 2 3 10 90 300 "
          ],
          "name": "stdout"
        }
      ]
    }
  ]
}