{
  "nbformat": 4,
  "nbformat_minor": 0,
  "metadata": {
    "colab": {
      "name": "Untitled0.ipynb",
      "version": "0.3.2",
      "provenance": [],
      "include_colab_link": true
    },
    "kernelspec": {
      "name": "python3",
      "display_name": "Python 3"
    }
  },
  "cells": [
    {
      "cell_type": "markdown",
      "metadata": {
        "id": "view-in-github",
        "colab_type": "text"
      },
      "source": [
        "<a href=\"https://colab.research.google.com/github/csap7/ictiitk/blob/master/housing_rates.ipynb\" target=\"_parent\"><img src=\"https://colab.research.google.com/assets/colab-badge.svg\" alt=\"Open In Colab\"/></a>"
      ]
    },
    {
      "cell_type": "code",
      "metadata": {
        "id": "VUBLDyibjgLD",
        "colab_type": "code",
        "colab": {
          "base_uri": "https://localhost:8080/",
          "height": 531
        },
        "outputId": "f2415662-1a23-4545-e195-046694609472"
      },
      "source": [
        "import pandas as pd\n",
        "import matplotlib.pyplot as plt\n",
        "from sklearn import linear_model\n",
        "import warnings\n",
        "warnings.filterwarnings(action=\"ignore\")\n",
        "\n",
        "\n",
        "# Function to get data\n",
        "def get_data(file_name):\n",
        "    dataframe = pd.read_csv(file_name)\n",
        "    print(dataframe)\n",
        "    x_parameters = []\n",
        "    y_parameters = []\n",
        "    for single_square_feet, single_price_value in zip(dataframe['square_feet'], dataframe['price']):\n",
        "        x_parameters.append([float(single_square_feet)])\n",
        "        y_parameters.append(float(single_price_value))\n",
        "    return x_parameters, y_parameters\n",
        "\n",
        "\n",
        "# Function for fitting data to linear model\n",
        "def linear_model_main(X_parameters, Y_parameters, quest_value):\n",
        "    # Create linear regression object\n",
        "    regr = linear_model.LinearRegression()\n",
        "    print(\"AREA: \", X_parameters)\n",
        "    print(\"PRICE: \", Y_parameters)\n",
        "\n",
        "    regr.fit(X_parameters, Y_parameters)\n",
        "    predicted_ans = regr.predict([[quest_value]])\n",
        "    predictions = {}\n",
        "    predictions['coefficient'] = regr.coef_\n",
        "    predictions['intercept'] = regr.intercept_\n",
        "    predictions['predicted_ans'] = predicted_ans\n",
        "\n",
        "    print(\"Output from Machine: \", predicted_ans)\n",
        "\n",
        "    plt.scatter(X_parameters, Y_parameters, color=\"m\", marker=\"o\", s=30)\n",
        "\n",
        "    all_predicted_Y = regr.predict(X_parameters)\n",
        "\n",
        "    plt.scatter(X_parameters, all_predicted_Y, color=\"b\")\n",
        "    plt.plot(X_parameters, all_predicted_Y, color=\"r\")\n",
        "    plt.scatter(quest_value, predicted_ans, color=\"g\")\n",
        "    plt.show()\n",
        "    return predictions\n",
        "\n",
        "\n",
        "# Predicting house price for house of 700 sq. ft.\n",
        "\n",
        "\n",
        "if __name__ == \"__main__\":\n",
        "    x, y = get_data('house_rates.csv')\n",
        "    question_value = 700\n",
        "    result = linear_model_main(x, y, question_value)\n",
        "\n",
        "    print(\"Intercept Value\", result['intercept'])\n",
        "    print(\"Ceffocient\", result['coefficient'])\n",
        "    print(\"Predicted house price= \", result['predicted_ans'])"
      ],
      "execution_count": 2,
      "outputs": [
        {
          "output_type": "stream",
          "text": [
            "   square_feet  price\n",
            "0          150   6450\n",
            "1          200   7450\n",
            "2          250   8450\n",
            "3          300   9450\n",
            "4          350  11450\n",
            "5          400  15450\n",
            "6          600  18450\n",
            "AREA:  [[150.0], [200.0], [250.0], [300.0], [350.0], [400.0], [600.0]]\n",
            "PRICE:  [6450.0, 7450.0, 8450.0, 9450.0, 11450.0, 15450.0, 18450.0]\n",
            "Output from Machine:  [21915.42553191]\n"
          ],
          "name": "stdout"
        },
        {
          "output_type": "display_data",
          "data": {
            "image/png": "[encoded data removed]",
            "text/plain": [
              "<Figure size 432x288 with 1 Axes>"
            ]
          },
          "metadata": {
            "tags": []
          }
        },
        {
          "output_type": "stream",
          "text": [
            "Intercept Value 1771.8085106382969\n",
            "Ceffocient [28.77659574]\n",
            "Predicted house price=  [21915.42553191]\n"
          ],
          "name": "stdout"
        }
      ]
    }
  ]
}